{
 "cells": [
  {
   "cell_type": "markdown",
   "id": "df73962b",
   "metadata": {},
   "source": [
    "### 可以在官网查看数据集"
   ]
  },
  {
   "cell_type": "code",
   "execution_count": 13,
   "id": "8945176e",
   "metadata": {},
   "outputs": [
    {
     "name": "stdout",
     "output_type": "stream",
     "text": [
      "Files already downloaded and verified\n",
      "Files already downloaded and verified\n"
     ]
    }
   ],
   "source": [
    "import torchvision\n",
    "from torch.utils.tensorboard import SummaryWriter\n",
    "\n",
    "\n",
    "dataset_transform=torchvision.transforms.Compose([\n",
    "    torchvision.transforms.ToTensor()\n",
    "])\n",
    "\n",
    "\n",
    "# 下载数据集\n",
    "tran_set=torchvision.datasets.CIFAR10(root=\"./data/02 data\",train=True,transform=dataset_transform,download=True)\n",
    "test_set=torchvision.datasets.CIFAR10(root=\"./data/02 data\",train=False,transform=dataset_transform,download=True)\n",
    "\n",
    "# print(test_set[0])\n",
    "writer=SummaryWriter(\"logs01\")\n",
    "for i in range(10):\n",
    "    img,target=test_set[i]\n",
    "    writer.add_image(\"test_set\",img,i)\n",
    "\n",
    "writer.close()"
   ]
  },
  {
   "cell_type": "code",
   "execution_count": null,
   "id": "33af18e0",
   "metadata": {},
   "outputs": [],
   "source": [
    "# 查看数据\n",
    "print(test_set.classes)\n",
    "img,target=test_set[0]\n",
    "print(img)\n",
    "print(target,test_set.classes[target])"
   ]
  }
 ],
 "metadata": {
  "kernelspec": {
   "display_name": "Python 3 (ipykernel)",
   "language": "python",
   "name": "python3"
  },
  "language_info": {
   "codemirror_mode": {
    "name": "ipython",
    "version": 3
   },
   "file_extension": ".py",
   "mimetype": "text/x-python",
   "name": "python",
   "nbconvert_exporter": "python",
   "pygments_lexer": "ipython3",
   "version": "3.7.11"
  }
 },
 "nbformat": 4,
 "nbformat_minor": 5
}
