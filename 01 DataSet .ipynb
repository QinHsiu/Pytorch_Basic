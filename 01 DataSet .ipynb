{
 "cells": [
  {
   "cell_type": "markdown",
   "id": "ea0642df",
   "metadata": {},
   "source": [
    "### 数据加载函数\n",
    "##### DataSet ：获取数据及其label，并显示数据样本数目\n",
    "##### 查看帮助：Dataset?\n",
    "##### 安装包：pip install opencv-python\n",
    "##### Dataloader "
   ]
  },
  {
   "cell_type": "code",
   "execution_count": 3,
   "id": "0f2d2d61",
   "metadata": {},
   "outputs": [],
   "source": [
    "from torch.utils.data import Dataset\n",
    "from PIL import Image #读取图片的库\n",
    "import torch\n",
    "\n",
    "import os\n",
    "# 获取数据\n",
    "path=os.getcwd()\n",
    "filename=os.listdir(path+\"\\\\data\\\\01 data\")\n",
    "filename\n",
    "\n",
    "\n",
    "img_path=path+\"\\\\data\\\\01 data\\\\train\\\\ants\\\\1030023514_aad5c608f9.jpg\"\n",
    "img=Image.open(img_path) #打开图片\n",
    "img.show() #展示图片"
   ]
  },
  {
   "cell_type": "code",
   "execution_count": 4,
   "id": "f4d79dad",
   "metadata": {},
   "outputs": [
    {
     "name": "stdout",
     "output_type": "stream",
     "text": [
      "bees path  D:\\PycharmProjects\\pythonProject\\Pytorch_basic\\data\\01 data\\train\\bees\n",
      "ants path  D:\\PycharmProjects\\pythonProject\\Pytorch_basic\\data\\01 data\\train\\ants\n",
      "0013035.jpg\n",
      "121\n",
      "bees\n",
      "121 124\n"
     ]
    }
   ],
   "source": [
    "import os\n",
    "from torch.utils.data import Dataset\n",
    "from PIL import Image #读取图片的库\n",
    "import torch\n",
    "\n",
    "\n",
    "\n",
    "# 使用类进行封装\n",
    "class myData(Dataset):\n",
    "    def __init__(self,root_dir,label_dir):\n",
    "        self.root_dir=root_dir\n",
    "        self.label_dir=label_dir\n",
    "        self.path=os.path.join(self.root_dir,self.label_dir)\n",
    "        self.img_path=os.listdir(self.path)\n",
    "        \n",
    "        \n",
    "    def __getitem__(self,idx):\n",
    "        img_name=self.img_path[idx]\n",
    "        img_item_path=os.path.join(self.root_dir,self.label_dir,img_name)\n",
    "        img=Image.open(img_item_path)\n",
    "        label=self.label_dir\n",
    "        return img,label\n",
    "    \n",
    "    def __len__(self):\n",
    "        return len(self.img_path)\n",
    "        \n",
    "        \n",
    "        \n",
    "if __name__==\"__main__\":\n",
    "    import os\n",
    "    root_dir=os.getcwd()+\"\\\\data\\\\01 data\\\\train\\\\\" #训练集\n",
    "    label_dir=['bees','ants']\n",
    "    path=os.path.join(root_dir,label_dir[0])\n",
    "    print(\"bees path \",path)\n",
    "    path=os.path.join(root_dir,label_dir[1])\n",
    "    print(\"ants path \",path)\n",
    "    img_path=os.listdir(path)\n",
    "    idx=0\n",
    "    img_name=img_path[idx]\n",
    "    print(img_name)\n",
    "    Image.open(path+\"\\\\\"+img_path[0]).show() #查看图片\n",
    "    \n",
    "    # 使用myData\n",
    "    data=myData(root_dir,label_dir[0]) #获取数据 \n",
    "    print(len(data))#打印长度\n",
    "    img,label=data[0]\n",
    "    img.show()\n",
    "    print(label)\n",
    "    \n",
    "    # 获取训练集\n",
    "    d_train_ant=myData(root_dir,label_dir[0])\n",
    "    d_train_bee=myData(root_dir,label_dir[1])\n",
    "    \n",
    "    # 打印长度\n",
    "    print(len(d_train_ant),len(d_train_bee))\n",
    "    \n",
    "    \n",
    "    \n",
    "    \n",
    "    "
   ]
  },
  {
   "cell_type": "markdown",
   "id": "7f22c1eb",
   "metadata": {},
   "source": [
    "### Tensorboard用于图像变换\n"
   ]
  },
  {
   "cell_type": "markdown",
   "id": "f0e99040",
   "metadata": {},
   "source": [
    "##### 使用pip install tensorboard进行安装\n",
    "##### 使用shift+tab查看帮助"
   ]
  },
  {
   "cell_type": "code",
   "execution_count": 5,
   "id": "4c1cb92b",
   "metadata": {},
   "outputs": [],
   "source": [
    "from torch.utils.tensorboard import SummaryWriter\n",
    "import os\n",
    "\n",
    "writer=SummaryWriter(\"logs\")\n",
    "\n",
    "# writer.add_image()\n",
    "# 显示函数曲线\n",
    "for i in range(100):\n",
    "    writer.add_scalar('y=2x',i*2,i)\n",
    "\n",
    "writer.close()"
   ]
  },
  {
   "cell_type": "markdown",
   "id": "14eabe04",
   "metadata": {},
   "source": [
    "##### 执行上述程序后会生成一个logs文件夹\n",
    "##### 在终端运行命令：tensorboard --logdir=logs （可以·加--port=5555 用来设置不同端口）\n",
    "##### 注意：执行上述命令时，必须在logs目录文件夹外（等号右边必须为logs目录的存放位置）\n",
    "##### 运行后打开生成的链接即可"
   ]
  },
  {
   "cell_type": "code",
   "execution_count": 7,
   "id": "75819342",
   "metadata": {},
   "outputs": [
    {
     "name": "stdout",
     "output_type": "stream",
     "text": [
      "img type <class 'PIL.JpegImagePlugin.JpegImageFile'>\n"
     ]
    }
   ],
   "source": [
    "# 显示图片\n",
    "# 安装opencv-python 使用pip install 命令安装\n",
    "import os\n",
    "path=os.getcwd()\n",
    "img_path=path+\"\\\\data\\\\01 data\\\\train\\\\ants\\\\1030023514_aad5c608f9.jpg\"\n",
    "img_PIL=Image.open(img_path)\n",
    "print(\"img type\",type(img_PIL))\n",
    "\n",
    "# 类型转换\n",
    "import numpy as np\n",
    "img_array=np.array(img_PIL) #转换为数组类型\n",
    "\n",
    "writer=SummaryWriter(\"logs\")\n",
    "\n",
    "writer.add_image(\"test\",img_array,1,dataformats=\"HWC\")\n",
    "\n",
    "writer.close()\n",
    "\n",
    "# 接下来步骤与上面的一样，使用终端"
   ]
  },
  {
   "cell_type": "markdown",
   "id": "3bf3887e",
   "metadata": {},
   "source": [
    "### transforms工具箱\n",
    "##### 包含转换工具（转换为totensor、重新定义形状resize）"
   ]
  },
  {
   "cell_type": "code",
   "execution_count": 15,
   "id": "2c334d7e",
   "metadata": {},
   "outputs": [
    {
     "data": {
      "text/plain": [
       "(torch.Size([3, 333, 500]), torch.Tensor)"
      ]
     },
     "execution_count": 15,
     "metadata": {},
     "output_type": "execute_result"
    }
   ],
   "source": [
    "from torchvision import transforms\n",
    "\n",
    "import os\n",
    "path=os.getcwd()\n",
    "img_path=path+\"\\\\data\\\\01 data\\\\train\\\\ants\\\\1030023514_aad5c608f9.jpg\"\n",
    "img_PIL=Image.open(img_path) #读取图片\n",
    "\n",
    "\n",
    "writer=SummaryWriter(\"logs\") #定义存放目录\n",
    "\n",
    "# 转换为tensor\n",
    "tensor_trans=transforms.ToTensor() #实例化\n",
    "tensor_img=tensor_trans(img_PIL) #将图片转换为tensor数据类型\n",
    "writer.add_image(\"Tensor_img\",tensor_img) #添加到tensorboard\n",
    "\n",
    "# 标准化\n",
    "trans_norm=transforms.Normalize([0.5 for i in range(3)],[0.5 for i in range(3)])\n",
    "img_norm=trans_norm(tensor_img)\n",
    "writer.add_image(\"Normalize\",img_norm)\n",
    "\n",
    "# 重新定义大小\n",
    "trans_size=transforms.Resize((512,512))\n",
    "img_resize=trans_size(tensor_img)\n",
    "writer.add_image(\"Resize\",img_resize,0)\n",
    "\n",
    "\n",
    "# Compose\n",
    "trans_size1=transforms.Resize(512)\n",
    "trans_compose=transforms.Compose([trans_size1,tensor_trans])\n",
    "img_resize1=trans_compose(img_PIL)\n",
    "writer.add_image(\"Compose\",img_resize1,1)\n",
    "\n",
    "# RandomCrop\n",
    "trans_random=transforms.RandomCrop(200)\n",
    "trans_compose1=transforms.Compose([trans_random,tensor_trans])\n",
    "for i in range(10):\n",
    "    img_crop=trans_compose1(img_PIL)\n",
    "    writer.add_image(\"RandomCrop\",img_crop,i)\n",
    "    \n",
    "\n",
    "writer.close()\n",
    "\n",
    "\n",
    "tensor_img.shape,type(tensor_img)"
   ]
  },
  {
   "cell_type": "code",
   "execution_count": 10,
   "id": "79bae3ef",
   "metadata": {},
   "outputs": [
    {
     "data": {
      "text/plain": [
       "((333, 500, 3), numpy.ndarray)"
      ]
     },
     "execution_count": 10,
     "metadata": {},
     "output_type": "execute_result"
    }
   ],
   "source": [
    "import cv2  #需要安装opencv-python\n",
    "cv_img=cv2.imread(img_path) #读取图片\n",
    "cv_img.shape,type(cv_img) "
   ]
  },
  {
   "cell_type": "code",
   "execution_count": 11,
   "id": "497849fb",
   "metadata": {},
   "outputs": [
    {
     "name": "stdout",
     "output_type": "stream",
     "text": [
      "__call__ hello QinHsiu\n",
      "hello QinHsiu\n"
     ]
    }
   ],
   "source": [
    "# 使用类进行封装\n",
    "# __call__与普通定义函数的区别\n",
    "\n",
    "class Person:\n",
    "    def __call__(self,name):\n",
    "        print(\"__call__\"+\" hello \"+name)\n",
    "    def hello(self,name):\n",
    "        print(\"hello \"+name)\n",
    "        \n",
    "person=Person()\n",
    "person(\"QinHsiu\") #使用call创建的函数直接调用\n",
    "person.hello(\"QinHsiu\") #使用定义的函数，需要添加.符号"
   ]
  },
  {
   "cell_type": "code",
   "execution_count": 73,
   "id": "96505e1b",
   "metadata": {},
   "outputs": [],
   "source": []
  },
  {
   "cell_type": "code",
   "execution_count": null,
   "id": "25a2e2ba",
   "metadata": {},
   "outputs": [],
   "source": []
  }
 ],
 "metadata": {
  "kernelspec": {
   "display_name": "Python 3",
   "language": "python",
   "name": "python3"
  },
  "language_info": {
   "codemirror_mode": {
    "name": "ipython",
    "version": 3
   },
   "file_extension": ".py",
   "mimetype": "text/x-python",
   "name": "python",
   "nbconvert_exporter": "python",
   "pygments_lexer": "ipython3",
   "version": "3.9.5"
  }
 },
 "nbformat": 4,
 "nbformat_minor": 5
}
