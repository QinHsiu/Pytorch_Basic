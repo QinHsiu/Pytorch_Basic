{
 "cells": [
  {
   "cell_type": "code",
   "execution_count": null,
   "id": "cb4d3209",
   "metadata": {},
   "outputs": [],
   "source": [
    "1.进入github\n",
    "2.搜索pytorch\n",
    "3.按star进行排序（查看）\n",
    "\n"
   ]
  }
 ],
 "metadata": {
  "kernelspec": {
   "display_name": "Python 3",
   "language": "python",
   "name": "python3"
  },
  "language_info": {
   "codemirror_mode": {
    "name": "ipython",
    "version": 3
   },
   "file_extension": ".py",
   "mimetype": "text/x-python",
   "name": "python",
   "nbconvert_exporter": "python",
   "pygments_lexer": "ipython3",
   "version": "3.9.5"
  }
 },
 "nbformat": 4,
 "nbformat_minor": 5
}
